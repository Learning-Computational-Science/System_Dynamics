{
 "cells": [
  {
   "cell_type": "markdown",
   "metadata": {},
   "source": [
    "# Constrained Population Growth\n",
    "This document follows the development of module 2.3 Angela B. and George W Shiflet's\n",
    "book [Introduction to Computational Science](https://ics.wofford-ecs.org/).\n",
    "\n",
    "In this document, we modify the unconstrained growth problem to include the effects of limited resources.  This introduces the concept of carrying capacity.  In this case, the population growth is $\\frac{dP}{dt}=\\frac{dB}{dt} - \\frac{dD}{dt}$ in which $P$ is the population, $\\frac{dB}{dt}=rP$ is the birth rate, and $\\frac{dD}{dt}=r\\frac{P}{M}P$ is the death rate.  In this expression, $M$ is the carrying capacity of the environment.  Note that this differential equation is very similar to the unconstrained growth problem, but includes the extra term $\\frac{dD}{dt}=r\\frac{P}{M}P$ which limits the growth rate."
   ]
  },
  {
   "cell_type": "markdown",
   "metadata": {},
   "source": [
    "## Initialization\n",
    "This section contains initialization code which gives this notebook the resources it needs to run."
   ]
  },
  {
   "cell_type": "code",
   "execution_count": 2,
   "metadata": {
    "collapsed": false
   },
   "outputs": [],
   "source": [
    "#This code performs the necessary steps to prepare to plot.\n",
    "from matplotlib import pyplot as plt\n",
    "#from pylab import *     #Import plotting module matplotlib as well as other modules\n",
    "                        #into the global namespace.\n",
    "from math import *\n",
    "    \n",
    "#Set the default plot to be inline rather than a new window.\n",
    "%matplotlib inline\n",
    "\n",
    "import inspect  #This allows us to print the source code in this notebook.\n",
    "from SDExamples import *  #Import the custom functions from this project.\n",
    "\n",
    "goldenratio=1/2*(1+sqrt(5))        #The next few lines are used for the size of plots\n",
    "fsx=7                              #Width (in inches) for the figures.\n",
    "fsy=fsx/goldenratio                #Height (in inches) for the figures."
   ]
  },
  {
   "cell_type": "markdown",
   "metadata": {},
   "source": [
    "<h2>Text Example for Constrained Population Growth</h2>\n",
    "<p>The results of the constrained population growth model are below.</p>"
   ]
  },
  {
   "cell_type": "code",
   "execution_count": 3,
   "metadata": {
    "collapsed": true
   },
   "outputs": [],
   "source": [
    "CarryingCapacity=1000000\n",
    "r=0.1\n",
    "Po=100\n",
    "timemax=200\n",
    "dt=0.005\n",
    "tca, pca = grow_constrained(dt,r,Po,timemax,CarryingCapacity)"
   ]
  },
  {
   "cell_type": "code",
   "execution_count": 6,
   "metadata": {
    "collapsed": false
   },
   "outputs": [
    {
     "data": {
      "image/png": "[encoded data removed]",
      "text/plain": [
       "<matplotlib.figure.Figure at 0x7c692b0>"
      ]
     },
     "metadata": {},
     "output_type": "display_data"
    }
   ],
   "source": [
    "plt.figure(figsize=(fsx, fsy))\n",
    "plt.plot(tca, pca, 'H', MFC=(1,0,0,0),mec='r')\n",
    "plt.xlabel('Time')\n",
    "plt.ylabel('Population')\n",
    "plt.title('Population vs Time')\n",
    "plt.show()"
   ]
  },
  {
   "cell_type": "markdown",
   "metadata": {},
   "source": [
    "<p>Let us compare this result to the exact (analytic) solutions for both the unconstrained and constrained solutions.</p> "
   ]
  },
  {
   "cell_type": "code",
   "execution_count": 7,
   "metadata": {
    "collapsed": true
   },
   "outputs": [],
   "source": [
    "M=CarryingCapacity\n",
    "def p(t):\n",
    "    return 100* exp(0.1 * t)\n",
    "def pc(t):\n",
    "    return Po*M*exp(r * t)/(M - Po + exp(r*t)*Po)\n",
    "t_exact = [t for t in range(201)]\n",
    "p_exact = [p(t) for t in range(201)]\n",
    "pc_exact = [pc(t) for t in range(201)]"
   ]
  },
  {
   "cell_type": "code",
   "execution_count": 8,
   "metadata": {
    "collapsed": false
   },
   "outputs": [
    {
     "ename": "AttributeError",
     "evalue": "'Figure' object has no attribute 'plot'",
     "output_type": "error",
     "traceback": [
      "\u001b[0;31m---------------------------------------------------------------------------\u001b[0m",
      "\u001b[0;31mAttributeError\u001b[0m                            Traceback (most recent call last)",
      "\u001b[0;32m<ipython-input-8-a8b74cda995e>\u001b[0m in \u001b[0;36m<module>\u001b[0;34m()\u001b[0m\n\u001b[1;32m      1\u001b[0m \u001b[0mb\u001b[0m\u001b[1;33m=\u001b[0m\u001b[0mplt\u001b[0m\u001b[1;33m.\u001b[0m\u001b[0mfigure\u001b[0m\u001b[1;33m(\u001b[0m\u001b[0mfigsize\u001b[0m\u001b[1;33m=\u001b[0m\u001b[1;33m(\u001b[0m\u001b[0mfsx\u001b[0m\u001b[1;33m,\u001b[0m \u001b[0mfsy\u001b[0m\u001b[1;33m)\u001b[0m\u001b[1;33m)\u001b[0m\u001b[1;33m\u001b[0m\u001b[0m\n\u001b[0;32m----> 2\u001b[0;31m \u001b[0mb\u001b[0m\u001b[1;33m.\u001b[0m\u001b[0mplot\u001b[0m\u001b[1;33m(\u001b[0m\u001b[0mt_exact\u001b[0m\u001b[1;33m,\u001b[0m \u001b[0mp_exact\u001b[0m\u001b[1;33m,\u001b[0m \u001b[1;34m'k-'\u001b[0m\u001b[1;33m)\u001b[0m\u001b[1;33m\u001b[0m\u001b[0m\n\u001b[0m\u001b[1;32m      3\u001b[0m \u001b[0mplot\u001b[0m\u001b[1;33m(\u001b[0m\u001b[0mt_exact\u001b[0m\u001b[1;33m,\u001b[0m \u001b[0mpc_exact\u001b[0m\u001b[1;33m,\u001b[0m \u001b[1;34m'b-'\u001b[0m\u001b[1;33m)\u001b[0m\u001b[1;33m\u001b[0m\u001b[0m\n\u001b[1;32m      4\u001b[0m \u001b[0mplot\u001b[0m\u001b[1;33m(\u001b[0m\u001b[0mtca\u001b[0m\u001b[1;33m,\u001b[0m \u001b[0mpca\u001b[0m\u001b[1;33m,\u001b[0m \u001b[1;34m'H'\u001b[0m\u001b[1;33m,\u001b[0m \u001b[0mMFC\u001b[0m\u001b[1;33m=\u001b[0m\u001b[1;33m(\u001b[0m\u001b[1;36m1\u001b[0m\u001b[1;33m,\u001b[0m\u001b[1;36m0\u001b[0m\u001b[1;33m,\u001b[0m\u001b[1;36m0\u001b[0m\u001b[1;33m,\u001b[0m\u001b[1;36m0\u001b[0m\u001b[1;33m)\u001b[0m\u001b[1;33m,\u001b[0m\u001b[0mmec\u001b[0m\u001b[1;33m=\u001b[0m\u001b[1;34m'r'\u001b[0m\u001b[1;33m)\u001b[0m\u001b[1;33m\u001b[0m\u001b[0m\n\u001b[1;32m      5\u001b[0m \u001b[0maxis\u001b[0m\u001b[1;33m(\u001b[0m\u001b[1;33m[\u001b[0m\u001b[1;36m00\u001b[0m\u001b[1;33m,\u001b[0m \u001b[1;36m200\u001b[0m\u001b[1;33m,\u001b[0m \u001b[1;36m000\u001b[0m\u001b[1;33m,\u001b[0m \u001b[1;36m2500000\u001b[0m\u001b[1;33m]\u001b[0m\u001b[1;33m)\u001b[0m\u001b[1;33m\u001b[0m\u001b[0m\n",
      "\u001b[0;31mAttributeError\u001b[0m: 'Figure' object has no attribute 'plot'"
     ]
    },
    {
     "data": {
      "text/plain": [
       "<matplotlib.figure.Figure at 0x7f30cc0>"
      ]
     },
     "metadata": {},
     "output_type": "display_data"
    }
   ],
   "source": [
    "b=plt.figure(figsize=(fsx, fsy))\n",
    "plot(t_exact, p_exact, 'k-')\n",
    "plot(t_exact, pc_exact, 'b-')\n",
    "plot(tca, pca, 'H', MFC=(1,0,0,0),mec='r')\n",
    "axis([00, 200, 000, 2500000])\n",
    "xlabel('Time')\n",
    "ylabel('Population')\n",
    "title('Population vs Time')\n",
    "show()"
   ]
  },
  {
   "cell_type": "markdown",
   "metadata": {},
   "source": [
    "<p>Note that our numerical simulation solution is accurate compared to the exact solution.</p>"
   ]
  }
 ],
 "metadata": {
  "anaconda-cloud": {},
  "kernelspec": {
   "display_name": "Python [conda root]",
   "language": "python",
   "name": "conda-root-py"
  }
 },
 "nbformat": 4,
 "nbformat_minor": 0
}
